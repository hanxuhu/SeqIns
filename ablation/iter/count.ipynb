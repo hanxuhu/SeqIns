{
 "cells": [
  {
   "cell_type": "code",
   "execution_count": 8,
   "metadata": {},
   "outputs": [],
   "source": [
    "import os\n",
    "import json\n",
    "from tqdm import tqdm\n",
    "\n",
    "tqdm.pandas()"
   ]
  },
  {
   "cell_type": "code",
   "execution_count": 9,
   "metadata": {},
   "outputs": [],
   "source": [
    "# list the current dir and print the files end with jsonl\n",
    "files = []\n",
    "for file in os.listdir('.'):\n",
    "    if file.endswith('.jsonl'):\n",
    "        files.append(file)\n",
    "\n",
    "data = {}\n",
    "for file in files:\n",
    "    with open(file, 'r') as f:\n",
    "        data[file] = []\n",
    "        for line in f:\n",
    "            data[file].append(json.loads(line))"
   ]
  },
  {
   "cell_type": "code",
   "execution_count": 4,
   "metadata": {},
   "outputs": [
    {
     "name": "stdout",
     "output_type": "stream",
     "text": [
      "flancot_100k-iteration_1-iter.jsonl\n",
      "D 21.13\n",
      "B 48.079\n",
      "A 22.727\n",
      "C 8.064\n",
      "\n",
      "flancot_100k-iteration_4-iter.jsonl\n",
      "D 98.544\n",
      "A 1.391\n",
      "B 0.031\n",
      "C 0.034\n",
      "\n",
      "alpaca_15k_llama70b_iteration_3-iter.jsonl\n",
      "D 93.53168469860897\n",
      "A 6.07612055641422\n",
      "C 0.20285935085007728\n",
      "B 0.1893353941267388\n",
      "\n",
      "alpaca_15k_llama70b_iteration_4-iter.jsonl\n",
      "D 98.95672333848532\n",
      "A 1.0027047913446676\n",
      "B 0.019319938176197836\n",
      "C 0.02125193199381762\n",
      "\n",
      "flancot_100k-iteration_3-iter.jsonl\n",
      "D 93.227\n",
      "A 6.390999999999999\n",
      "B 0.165\n",
      "C 0.217\n",
      "\n",
      "alpaca_llama70b_iteration_2-iter.jsonl\n",
      "D 63.029366306027825\n",
      "A 30.3902627511592\n",
      "C 2.7994590417310663\n",
      "B 3.7809119010819168\n",
      "\n",
      "alpaca_llama70b_iteration_1-iter.jsonl\n",
      "D 16.845054095826896\n",
      "B 51.242272024729516\n",
      "C 24.499613601236476\n",
      "A 7.4130602782071096\n",
      "\n",
      "flancot_100k-iteration_2-iter.jsonl\n",
      "D 66.109\n",
      "A 31.387999999999998\n",
      "B 1.391\n",
      "C 1.1119999999999999\n",
      "\n"
     ]
    }
   ],
   "source": [
    "# count the option distribution\n",
    "from collections import Counter\n",
    "options = {}\n",
    "for file in data:\n",
    "    os = [o['option'] for o in data[file]]\n",
    "    options[file] = Counter(os)\n",
    "\n",
    "# print the option distribution\n",
    "for file in options:\n",
    "    print(file)\n",
    "    # Convert them into percentage\n",
    "    for o in options[file]:\n",
    "        print(o, options[file][o] / len(data[file]) * 100)\n",
    "    print()"
   ]
  },
  {
   "cell_type": "code",
   "execution_count": 10,
   "metadata": {},
   "outputs": [
    {
     "name": "stderr",
     "output_type": "stream",
     "text": [
      "Special tokens have been added in the vocabulary, make sure the associated word embeddings are fine-tuned or trained.\n"
     ]
    }
   ],
   "source": [
    "# tokenize the instruction\n",
    "from transformers import AutoTokenizer\n",
    "tokenizer = AutoTokenizer.from_pretrained('meta-llama/Meta-Llama-3-8B')\n"
   ]
  },
  {
   "cell_type": "code",
   "execution_count": null,
   "metadata": {},
   "outputs": [],
   "source": [
    "\n",
    "avg_len = {}\n",
    "for file in data:\n",
    "    instructions = [d['instruction'] for d in data[file]]\n",
    "    tokens = [tokenizer.tokenize(i) for i in tqdm(instructions)]\n",
    "    avg_len[file] = sum([len(t) for t in tokens]) / len(tokens)"
   ]
  },
  {
   "cell_type": "code",
   "execution_count": 11,
   "metadata": {},
   "outputs": [
    {
     "name": "stderr",
     "output_type": "stream",
     "text": [
      " 10%|▉         | 9732/100000 [00:02<00:24, 3718.97it/s]Exception ignored in: <bound method IPythonKernel._clean_thread_parent_frames of <ipykernel.ipkernel.IPythonKernel object at 0x7fc818870b80>>\n",
      "Traceback (most recent call last):\n",
      "  File \"/Users/simonyu/opt/anaconda3/envs/robust/lib/python3.8/site-packages/ipykernel/ipkernel.py\", line 770, in _clean_thread_parent_frames\n",
      "    def _clean_thread_parent_frames(\n",
      "KeyboardInterrupt: \n",
      "100%|██████████| 100000/100000 [00:37<00:00, 2670.55it/s]\n"
     ]
    },
    {
     "name": "stdout",
     "output_type": "stream",
     "text": [
      "flancot_100k-iteration_1-iter.jsonl 127.43642\n"
     ]
    },
    {
     "name": "stderr",
     "output_type": "stream",
     "text": [
      "100%|██████████| 100000/100000 [00:36<00:00, 2720.86it/s]\n"
     ]
    },
    {
     "name": "stdout",
     "output_type": "stream",
     "text": [
      "flancot_100k-iteration_4-iter.jsonl 129.77609\n"
     ]
    },
    {
     "name": "stderr",
     "output_type": "stream",
     "text": [
      "100%|██████████| 51760/51760 [00:08<00:00, 6021.88it/s] \n"
     ]
    },
    {
     "name": "stdout",
     "output_type": "stream",
     "text": [
      "alpaca_15k_llama70b_iteration_3-iter.jsonl 45.99704404945904\n"
     ]
    },
    {
     "name": "stderr",
     "output_type": "stream",
     "text": [
      "100%|██████████| 51760/51760 [00:07<00:00, 6854.74it/s] \n"
     ]
    },
    {
     "name": "stdout",
     "output_type": "stream",
     "text": [
      "alpaca_15k_llama70b_iteration_4-iter.jsonl 46.122642967542504\n"
     ]
    },
    {
     "name": "stderr",
     "output_type": "stream",
     "text": [
      "100%|██████████| 100000/100000 [00:36<00:00, 2715.18it/s]\n"
     ]
    },
    {
     "name": "stdout",
     "output_type": "stream",
     "text": [
      "flancot_100k-iteration_3-iter.jsonl 129.60437\n"
     ]
    },
    {
     "name": "stderr",
     "output_type": "stream",
     "text": [
      "100%|██████████| 51760/51760 [00:07<00:00, 6732.58it/s] \n"
     ]
    },
    {
     "name": "stdout",
     "output_type": "stream",
     "text": [
      "alpaca_llama70b_iteration_2-iter.jsonl 45.15747681607419\n"
     ]
    },
    {
     "name": "stderr",
     "output_type": "stream",
     "text": [
      "100%|██████████| 51760/51760 [00:06<00:00, 7643.23it/s]\n"
     ]
    },
    {
     "name": "stdout",
     "output_type": "stream",
     "text": [
      "alpaca_llama70b_iteration_1-iter.jsonl 40.86580370942813\n"
     ]
    },
    {
     "name": "stderr",
     "output_type": "stream",
     "text": [
      "100%|██████████| 51760/51760 [00:07<00:00, 6866.68it/s]\n"
     ]
    },
    {
     "name": "stdout",
     "output_type": "stream",
     "text": [
      "alpaca_llmam_70b.jsonl 44.72901854714065\n"
     ]
    },
    {
     "name": "stderr",
     "output_type": "stream",
     "text": [
      "100%|██████████| 100000/100000 [00:42<00:00, 2368.59it/s]\n"
     ]
    },
    {
     "name": "stdout",
     "output_type": "stream",
     "text": [
      "flancot_100k-direct_response.jsonl 150.01316\n"
     ]
    },
    {
     "name": "stderr",
     "output_type": "stream",
     "text": [
      "100%|██████████| 100000/100000 [00:35<00:00, 2794.67it/s]\n"
     ]
    },
    {
     "name": "stdout",
     "output_type": "stream",
     "text": [
      "flancot_100k-iteration_2-iter.jsonl 128.94211\n"
     ]
    }
   ],
   "source": [
    "avg_len = {}\n",
    "for file in data:\n",
    "    instructions = [d['instruction'] + \" \" + d[\"input\"] for d in data[file]]\n",
    "    tokens = [tokenizer.tokenize(i) for i in tqdm(instructions)]\n",
    "    avg_len[file] = sum([len(t) for t in tokens]) / len(tokens)\n",
    "\n",
    "    print(file, avg_len[file])"
   ]
  },
  {
   "cell_type": "code",
   "execution_count": 12,
   "metadata": {},
   "outputs": [
    {
     "name": "stderr",
     "output_type": "stream",
     "text": [
      "100%|██████████| 100000/100000 [01:33<00:00, 1067.29it/s]\n"
     ]
    },
    {
     "name": "stdout",
     "output_type": "stream",
     "text": [
      "flancot_100k-iteration_1-iter.jsonl 336.66914\n"
     ]
    },
    {
     "name": "stderr",
     "output_type": "stream",
     "text": [
      "100%|██████████| 100000/100000 [01:39<00:00, 1005.31it/s]\n"
     ]
    },
    {
     "name": "stdout",
     "output_type": "stream",
     "text": [
      "flancot_100k-iteration_4-iter.jsonl 336.11423\n"
     ]
    },
    {
     "name": "stderr",
     "output_type": "stream",
     "text": [
      "100%|██████████| 51760/51760 [01:03<00:00, 821.30it/s] \n"
     ]
    },
    {
     "name": "stdout",
     "output_type": "stream",
     "text": [
      "alpaca_15k_llama70b_iteration_3-iter.jsonl 429.5100077279753\n"
     ]
    },
    {
     "name": "stderr",
     "output_type": "stream",
     "text": [
      "100%|██████████| 51760/51760 [01:01<00:00, 844.92it/s] \n"
     ]
    },
    {
     "name": "stdout",
     "output_type": "stream",
     "text": [
      "alpaca_15k_llama70b_iteration_4-iter.jsonl 430.52625579598146\n"
     ]
    },
    {
     "name": "stderr",
     "output_type": "stream",
     "text": [
      "100%|██████████| 100000/100000 [01:41<00:00, 989.09it/s]\n"
     ]
    },
    {
     "name": "stdout",
     "output_type": "stream",
     "text": [
      "flancot_100k-iteration_3-iter.jsonl 336.24168\n"
     ]
    },
    {
     "name": "stderr",
     "output_type": "stream",
     "text": [
      "100%|██████████| 51760/51760 [01:00<00:00, 849.66it/s] \n"
     ]
    },
    {
     "name": "stdout",
     "output_type": "stream",
     "text": [
      "alpaca_llama70b_iteration_2-iter.jsonl 425.52791731066463\n"
     ]
    },
    {
     "name": "stderr",
     "output_type": "stream",
     "text": [
      "100%|██████████| 51760/51760 [01:01<00:00, 842.71it/s]\n"
     ]
    },
    {
     "name": "stdout",
     "output_type": "stream",
     "text": [
      "alpaca_llama70b_iteration_1-iter.jsonl 414.5709234930448\n"
     ]
    },
    {
     "name": "stderr",
     "output_type": "stream",
     "text": [
      "100%|██████████| 51760/51760 [00:57<00:00, 904.38it/s]\n"
     ]
    },
    {
     "name": "stdout",
     "output_type": "stream",
     "text": [
      "alpaca_llmam_70b.jsonl 414.5709234930448\n"
     ]
    },
    {
     "name": "stderr",
     "output_type": "stream",
     "text": [
      "100%|██████████| 100000/100000 [01:04<00:00, 1554.89it/s]\n"
     ]
    },
    {
     "name": "stdout",
     "output_type": "stream",
     "text": [
      "flancot_100k-direct_response.jsonl 243.11199\n"
     ]
    },
    {
     "name": "stderr",
     "output_type": "stream",
     "text": [
      "100%|██████████| 100000/100000 [01:28<00:00, 1131.62it/s]\n"
     ]
    },
    {
     "name": "stdout",
     "output_type": "stream",
     "text": [
      "flancot_100k-iteration_2-iter.jsonl 337.37495\n"
     ]
    }
   ],
   "source": [
    "avg_len = {}\n",
    "for file in data:\n",
    "    instructions = [d['output'] for d in data[file]]\n",
    "    tokens = [tokenizer.tokenize(i) for i in tqdm(instructions)]\n",
    "    avg_len[file] = sum([len(t) for t in tokens]) / len(tokens)\n",
    "\n",
    "    print(file, avg_len[file])"
   ]
  },
  {
   "cell_type": "code",
   "execution_count": 13,
   "metadata": {},
   "outputs": [
    {
     "ename": "KeyError",
     "evalue": "0",
     "output_type": "error",
     "traceback": [
      "\u001b[0;31m---------------------------------------------------------------------------\u001b[0m",
      "\u001b[0;31mKeyError\u001b[0m                                  Traceback (most recent call last)",
      "\u001b[1;32m/Users/simonyu/local/Seq_IT/ablation/iter/count.ipynb Cell 8\u001b[0m line \u001b[0;36m8\n\u001b[1;32m      <a href='vscode-notebook-cell:/Users/simonyu/local/Seq_IT/ablation/iter/count.ipynb#X11sZmlsZQ%3D%3D?line=4'>5</a>\u001b[0m     \u001b[39mfor\u001b[39;00m line \u001b[39min\u001b[39;00m f:\n\u001b[1;32m      <a href='vscode-notebook-cell:/Users/simonyu/local/Seq_IT/ablation/iter/count.ipynb#X11sZmlsZQ%3D%3D?line=5'>6</a>\u001b[0m         alpaca_data\u001b[39m.\u001b[39mappend(json\u001b[39m.\u001b[39mloads(line))\n\u001b[0;32m----> <a href='vscode-notebook-cell:/Users/simonyu/local/Seq_IT/ablation/iter/count.ipynb#X11sZmlsZQ%3D%3D?line=7'>8</a>\u001b[0m \u001b[39mprint\u001b[39m(data[\u001b[39m0\u001b[39;49m]\u001b[39m.\u001b[39mkeys())\n",
      "\u001b[0;31mKeyError\u001b[0m: 0"
     ]
    }
   ],
   "source": [
    "alpaca_direct = 'alpaca-cleaned-Meta-Llama-3-70B-Instruct-direct_response.jsonl'\n",
    "\n",
    "with open(alpaca_direct, 'r') as f:\n",
    "    alpaca_data = []\n",
    "    for line in f:\n",
    "        alpaca_data.append(json.loads(line))\n",
    "\n",
    "print(alpaca_data[0].keys())"
   ]
  },
  {
   "cell_type": "code",
   "execution_count": 15,
   "metadata": {},
   "outputs": [
    {
     "name": "stderr",
     "output_type": "stream",
     "text": [
      "100%|██████████| 51760/51760 [00:03<00:00, 15955.32it/s]\n",
      "100%|██████████| 51760/51760 [00:46<00:00, 1120.92it/s]"
     ]
    },
    {
     "name": "stdout",
     "output_type": "stream",
     "text": [
      "12.752472952086553\n",
      "296.21777434312213\n"
     ]
    },
    {
     "name": "stderr",
     "output_type": "stream",
     "text": [
      "\n"
     ]
    }
   ],
   "source": [
    "\n",
    "instruction_len = [tokenizer.tokenize(d['instruction']) for d in tqdm(alpaca_data)]\n",
    "output_len = [tokenizer.tokenize(d['final_instruction_response']) for d in tqdm(alpaca_data)]\n",
    "\n",
    "# average instruction length\n",
    "print(sum([len(i) for i in instruction_len]) / len(instruction_len))\n",
    "print(sum([len(i) for i in output_len]) / len(output_len))"
   ]
  },
  {
   "cell_type": "code",
   "execution_count": 16,
   "metadata": {},
   "outputs": [
    {
     "name": "stderr",
     "output_type": "stream",
     "text": [
      "100%|██████████| 51760/51760 [00:04<00:00, 12199.41it/s]\n"
     ]
    },
    {
     "name": "stdout",
     "output_type": "stream",
     "text": [
      "20.17536707882535\n"
     ]
    }
   ],
   "source": [
    "instruction_len = [tokenizer.tokenize(d['instruction'] + ' ' + d['input']) for d in tqdm(alpaca_data)]\n",
    "print(sum([len(i) for i in instruction_len]) / len(instruction_len))"
   ]
  },
  {
   "cell_type": "code",
   "execution_count": null,
   "metadata": {},
   "outputs": [],
   "source": []
  }
 ],
 "metadata": {
  "kernelspec": {
   "display_name": "robust",
   "language": "python",
   "name": "python3"
  },
  "language_info": {
   "codemirror_mode": {
    "name": "ipython",
    "version": 3
   },
   "file_extension": ".py",
   "mimetype": "text/x-python",
   "name": "python",
   "nbconvert_exporter": "python",
   "pygments_lexer": "ipython3",
   "version": "3.8.0"
  },
  "orig_nbformat": 4
 },
 "nbformat": 4,
 "nbformat_minor": 2
}
