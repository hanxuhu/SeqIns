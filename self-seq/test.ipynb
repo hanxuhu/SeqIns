{
 "cells": [
  {
   "cell_type": "code",
   "execution_count": 1,
   "metadata": {},
   "outputs": [
    {
     "name": "stderr",
     "output_type": "stream",
     "text": [
      "/Users/simonyu/opt/anaconda3/envs/robust/lib/python3.8/site-packages/tqdm/auto.py:21: TqdmWarning: IProgress not found. Please update jupyter and ipywidgets. See https://ipywidgets.readthedocs.io/en/stable/user_install.html\n",
      "  from .autonotebook import tqdm as notebook_tqdm\n"
     ]
    }
   ],
   "source": [
    "from agent import CohereAgent\n",
    "from token_store import *"
   ]
  },
  {
   "cell_type": "code",
   "execution_count": 2,
   "metadata": {},
   "outputs": [],
   "source": [
    "cohere = CohereAgent(COHERE_API_KEY)"
   ]
  },
  {
   "cell_type": "code",
   "execution_count": 3,
   "metadata": {},
   "outputs": [
    {
     "data": {
      "text/plain": [
       "\"I'm sorry to hear that. It's completely valid to feel sad sometimes, and it's important to allow yourself to experience and process these emotions. Here are a few things that might help you feel better:\\n\\n- Talk to someone you trust about how you're feeling. Sometimes, sharing your thoughts and emotions with a supportive friend or family member can help lighten the burden.\\n\\n- Engage in activities that you enjoy and make you feel good. This could be listening to music, reading a book, drawing, spending time in nature, or practicing a hobby.\\n\\n- Take care of your physical well-being. Ensure that you're eating nutritious meals, staying hydrated, and getting enough sleep. Sometimes, taking a short walk or engaging in light exercise can also help improve your mood.\\n\\n- Practice self-care and self-compassion. Treat yourself with kindness and understanding. Engage in activities that help you relax, such as meditation, deep breathing exercises, or taking a warm bath.\\n\\n- If your feelings of sadness persist or interfere with your daily life, consider seeking professional help. A therapist or counselor can provide additional support and guidance in managing your emotions.\\n\\nRemember, it's okay to not be okay all the time. Give yourself the time and space to process your emotions, and know that this feeling will pass.\""
      ]
     },
     "execution_count": 3,
     "metadata": {},
     "output_type": "execute_result"
    }
   ],
   "source": [
    "messages = {\"messages\":[{\"role\": \"user\", \"content\": \"I'm feeling sad today.\"}]}\n",
    "response = cohere.generate(messages)\n",
    "response"
   ]
  },
  {
   "cell_type": "code",
   "execution_count": null,
   "metadata": {},
   "outputs": [],
   "source": []
  }
 ],
 "metadata": {
  "kernelspec": {
   "display_name": "robust",
   "language": "python",
   "name": "python3"
  },
  "language_info": {
   "codemirror_mode": {
    "name": "ipython",
    "version": 3
   },
   "file_extension": ".py",
   "mimetype": "text/x-python",
   "name": "python",
   "nbconvert_exporter": "python",
   "pygments_lexer": "ipython3",
   "version": "3.8.0"
  },
  "orig_nbformat": 4
 },
 "nbformat": 4,
 "nbformat_minor": 2
}
